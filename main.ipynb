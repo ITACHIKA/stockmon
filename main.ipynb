{
 "cells": [
  {
   "cell_type": "code",
   "execution_count": 1,
   "metadata": {},
   "outputs": [],
   "source": [
    "import requests\n",
    "import json\n",
    "import bs4\n",
    "import pandas as pd\n",
    "\n",
    "header ={\"user-agent\":\"Mozilla/5.0 (Windows NT 10.0; Win64; x64) AppleWebKit/537.36 (KHTML, like Gecko) Chrome/128.0.0.0 Safari/537.36\"}\n",
    "\n",
    "cap=[\"nano,micro,small,medium,large,mega\"]\n",
    "exchange=[\"nasdaq,nyse,amex\"]"
   ]
  },
  {
   "cell_type": "code",
   "execution_count": 4,
   "metadata": {},
   "outputs": [
    {
     "name": "stdout",
     "output_type": "stream",
     "text": [
      "['LEXX', 'RRGB', 'NTRB', 'NAAS', 'CRWS', 'CPTN', 'DRRX', 'HYMC', 'CLST', 'FKWL', 'MESA', 'BGFV', 'SCYX', 'PRTS', 'RPHM', 'AIRTP', 'BNR', 'UCL', 'CPBI', 'LEE', 'OSS', 'CMBM', 'ARQQ', 'RECT', 'DWSN', 'ANEB', 'FLNT', 'ATRA', 'AWRE', 'BGM', 'BWEN', 'RLYB', 'ELTX', 'CREX', 'EHGO', 'TCBS', 'PPSI', 'LPTH', 'CCG', 'SELX', 'PFXNZ', 'ASRV', 'AADI', 'APYX', 'RAND', 'CFSB', 'ICMB', 'VTVT', 'FSEA', 'BLRX', 'LVROW', 'HOUR', 'RGS', 'HSON', 'OPHC', 'PASG', 'LUCD', 'CMCT', 'LILMW', 'NISN', 'CODX', 'OCX', 'OABIW', 'KPLT', 'CTRM', 'TACT', 'SYT', 'NAII', 'SJ', 'LVTX', 'PET', 'RCON', 'OPTX', 'ARKR', 'DBGIW', 'MNY', 'CARM', 'FEAM', 'USIO', 'PBBK', 'AXDX', 'ECDA', 'BMR', 'KZR', 'PLBY', 'TRSG', 'SYRS', 'RENT', 'LICN', 'ARKOW', 'FBIO', 'RDI', 'RVPH', 'RFIL', 'ESLA', 'ALGS', 'NXTC', 'AKTX', 'DRCT', 'IDN', 'HFBL', 'XOS', 'CDROW', 'PDYN', 'UHGWW', 'FGEN', 'PMN', 'INTG', 'SWIN', 'SWVL', 'FATBW', 'HUIZ', 'CLNN', 'ECOR', 'TARA', 'SNT', 'BNGO', 'DSWL', 'EOSEW', 'IPW', 'EBON', 'XBP', 'ICAD', 'CCLD', 'ENGNW', 'LINK', 'MNDO', 'DYAI', 'WHLRL', 'PODC', 'CLIR', 'ELEV', 'LTRN', 'CDTG', 'PXLW', 'PHUN', 'DXR', 'AFRIW', 'SHCRW', 'EGIO', 'AIRJW', 'CENN', 'BNAI', 'GROW', 'YYGH', 'JRSH', 'RPID', 'BGXX', 'AREC', 'XLO', 'BHIL', 'IZEA', 'TLSIW', 'IMRX', 'NOTV', 'MDBH', 'TLF', 'SYPR', 'VSTE', 'DFLI', 'REE', 'AAME', 'CURR', 'AGMH', 'OCEA', 'LTBR', 'TURN', 'UNCY', 'KSCP', 'POCI', 'CLPS', 'IRIX', 'DGHI', 'SCOR', 'EQ', 'SHFS', 'STRM', 'NSYS', 'NCTY', 'LNZAW', 'ACXP', 'APWC', 'AIEV', 'TBLAW', 'VTNR', 'EYEN', 'AIXI', 'OCUP', 'STRRP', 'TPST', 'ICCC', 'INKT', 'LGCB', 'GTIM', 'LUMO', 'MOVE', 'MATH', 'NTWK', 'ESGL', 'ANTX', 'ELBM', 'AZ', 'ORKA', 'QNCX', 'TWG', 'FTEK', 'ATER', 'SNAL', 'CRIS', 'WTO', 'NRBO', 'SRZN', 'ACHL', 'EPOW', 'MOGO', 'SLNHP', 'PLUR', 'STI', 'DARE', 'GLBS', 'RAY', 'ASPS', 'ICLK', 'TPCS', 'CUE', 'ICCM', 'FGF', 'NVNI', 'DTCK', 'LGVN', 'HYFM', 'VYNE', 'AERT', 'MDRRP', 'GTEC', 'HUDI', 'ORGS', 'OESX', 'KALA', 'GAME', 'MOBX', 'AQMS', 'CXAI', 'PALT', 'SURG', 'RNWWW', 'LFWD', 'GRRR', 'MTEN', 'CMMB', 'WHLM', 'ALTS', 'GANX', 'EVTV', 'HCWB', 'MRKR', 'MNDR', 'IXHL', 'JG', 'SABS', 'FTCI', 'OKYO', 'TMCWW', 'LSTA', 'ANGH', 'CGBS', 'OM', 'CMLS', 'ATGL', 'UBXG', 'RAVE', 'DRIO', 'RNLX', 'NWGL', 'BOLT', 'ITRM', 'NXPL', 'RNXT', 'WALDW', 'UBX', 'USEG', 'PSHG', 'AIFF', 'MHUA', 'HOLO', 'GMM', 'NMTC', 'LIFW', 'FCUV', 'TKLF', 'FEMY', 'SOHO', 'BIOR', 'ENLV', 'MDAI', 'CVV', 'SLDPW', 'STIM', 'IZM', 'GBNY', 'HLP', 'FPAY', 'DALN', 'CHR', 'KFFB', 'DTST', 'PMEC', 'HKIT', 'RGTIW', 'MIRA', 'CGTX', 'USEA', 'ACST', 'TOI', 'YHGJ', 'PIRS', 'UTSI', 'ILAG', 'LSH', 'BTAI', 'GP', 'SWAG', 'CRMLW', 'BLMZ', 'DAIO', 'ONMD', 'APCX', 'OCC', 'CNTM', 'BHAT', 'CHSN', 'GORV', 'EKSO', 'VINC', 'PXDT', 'ATHA', 'MEIP', 'MIGI', 'BCLI', 'WETH', 'ICU', 'CACO', 'JFU', 'TXMD', 'WKEY', 'KIRK', 'MRM', 'NA', 'NEPH', 'COOT', 'LPCN', 'CYTH', 'NKGN', 'ABVE', 'RZLVW', 'SLNH', 'COSM', 'LRE', 'MYNA', 'CPSH', 'XAIR', 'CNFR', 'SDOT', 'WVVIP', 'SLGL', 'BFRG', 'BOF', 'ODVWZ', 'HOVR', 'SPRB', 'ABTS', 'WVVI', 'AMIX', 'BANL', 'CPIX', 'NERV', 'APRE', 'BBGI', 'AGBAW', 'GREE', 'DUOT', 'GOVX', 'EDTK', 'GRYP', 'LYRA', 'PSIG', 'MGIH', 'NRXP', 'BIAF', 'FMST', 'CARA', 'HYZN', 'STEC', 'ALCE', 'AACG', 'EDUC', 'ASTC', 'JZ', 'MCVT', 'COCP', 'TAIT', 'UGRO', 'GYRO', 'GDTC', 'GHSI', 'IINN', 'SYBX', 'NXGL', 'XELB', 'TLPH', 'BTCS', 'TRIB', 'IPA', 'PGYWW', 'MMV', 'LOBO', 'AEHL', 'PT', 'YYAI', 'ARBEW', 'BIAFW', 'BOSC', 'WKSP', 'UCAR', 'LIQT', 'CYCCP', 'LEXXW', 'JCTCF', 'GLBZ', 'SEED', 'ZKIN', 'APM', 'JYD', 'YQ', 'TNON', 'AWH', 'CCTG', 'CJET', 'BLDEW', 'VRAR', 'SNSE', 'BIVI', 'MKDW', 'TURB', 'PEV', 'DLPN', 'TOMZ', 'FLYE', 'EVGN', 'IMNN', 'APDN', 'SGMA', 'VISL', 'ANY', 'GGROW', 'XTLB', 'OMIC', 'IMRN', 'LRHC', 'INDP', 'ORGNW', 'GNLN', 'GCTK', 'GIGM', 'NRSN', 'MBOT', 'RGF', 'PIIIW', 'DRTSW', 'BEATW', 'QSIAW', 'MDRR', 'INAB', 'SUGP', 'MTEX', 'TRUG', 'AILEW', 'WKHS', 'GVP', 'EDSA', 'CWD', 'MTEK', 'QTI', 'STRR', 'CUTR', 'AIHS', 'TSBX', 'SSKN', 'GSUN', 'ISPO', 'HUBC', 'INTJ', 'JL', 'BCTX', 'RVMDW', 'NCRA', 'FLGC', 'AYTU', 'VRME', 'PMD', 'HTCR', 'CLRO', 'SNTI', 'MSS', 'EVAX', 'RMCO', 'OXBR', 'ELSE', 'ARQQW', 'MDJH', 'VRM', 'XELA', 'WENA', 'TENX', 'SHOTW', 'CLWT', 'LSBPW', 'APLM', 'PMCB', 'JDZG', 'CNVS', 'REBN', 'WISA', 'GLTO', 'ULY', 'LDTC', 'PETZ', 'SMTK', 'QMCO', 'RDHL', 'CDT', 'HOFV', 'ONCT', 'MNTS', 'SONM', 'ADXN', 'GIPR', 'JVA', 'RAYA', 'FRSX', 'HRYU', 'PPBT', 'WHLRD', 'BLIN', 'PAVM', 'WLGS', 'DOMH', 'SLE', 'STBX', 'SIDU', 'TCTM', 'FBRX', 'ADD', 'SAI', 'CHEK', 'NTRBW', 'OP', 'GVH', 'GFAI', 'DXYN', 'BRTX', 'HTOO', 'UPC', 'GURE', 'SRM', 'RMCF', 'MBIO', 'VRAX', 'SANW', 'VERB', 'CREV', 'JAGX', 'BTBD', 'ALPP', 'GLYC', 'CJJD', 'IKT', 'SPI', 'OTRK', 'ARTW', 'JXJT', 'CTCX', 'YJ', 'CARV', 'VCNX', 'ZAPP', 'LKCO', 'XELAP', 'SQFT', 'LEDS', 'KTRA', 'ATIF', 'VIRX', 'ZCAR', 'MEDS', 'KRKR', 'JZXN', 'LIDR', 'OMH', 'PRPO', 'INHD', 'BSLK', 'BREA', 'TRAW', 'NXTT', 'LSEAW', 'MTEM', 'XWEL', 'VVOS', 'SCKT', 'NWTNW', 'AEI', 'TMTCR', 'NXL', 'MEGL', 'BENF', 'EEIQ', 'SOGP', 'RVSN', 'SLXN', 'EMKR', 'SNGX', 'ASNS', 'KZIA', 'MNPR', 'TALKW', 'NCI', 'CVKD', 'ONVO', 'PSTV', 'HIHO', 'ABVC', 'ERNA', 'KA', 'SGLY', 'MGRX', 'ADVWW', 'EZFL', 'DPRO', 'GWAV', 'CYCN', 'KDLY', 'AAGR', 'GV', 'MRNOW', 'MARPS', 'HWH', 'STSS', 'AVTX', 'PIXY', 'STKH', 'ASST', 'PXSAW', 'WAFU', 'CREG', 'NURO', 'CMAX', 'MULN', 'EFOI', 'LTRY', 'LCFY', 'USGOW', 'LAES', 'BLBX', 'COEP', 'BGLC', 'FGI', 'HOTH', 'APTO', 'PULM', 'MFI', 'AMPG', 'RCRT', 'RCKTW', 'LITM', 'MICS', 'PNBK', 'MRIN', 'CSCI', 'RVYL', 'CSLRW', 'XTIA', 'GRNQ', 'LDWY', 'LUCY', 'PEGY', 'ELWS', 'ALLR', 'HYZNW', 'ARBB', 'CDIO', 'CTNT', 'NIVF', 'MYNZ', 'INTZ', 'POLA', 'TBIO', 'AISPW', 'WLDS', 'ECXWW', 'PWM', 'LCFYW', 'CRKN', 'VGASW', 'ROMA', 'MVSTW', 'ADIL', 'ENG', 'ATPC', 'KITT', 'CISS', 'AKTS', 'FTFT', 'NXPLW', 'SYRA', 'TFFP', 'BFRI', 'MBRX', 'CYN', 'SMSI', 'RVPHW', 'RETO', 'POAI', 'MAPSW', 'XBIO', 'LMFA', 'WBUY', 'YOSH', 'VLCN', 'JCSE', 'NUZE', 'PAVS', 'HPAIW', 'ELAB', 'NCNA', 'IPDN', 'BMRA', 'WHLR', 'XRTX', 'AYRO', 'APCXW', 'VEV', 'SNTG', 'SPPL', 'AMST', 'PYPD', 'BTOG', 'NLSP', 'IVDA', 'CING', 'DTSS', 'ADN', 'MGOL', 'CHNR', 'ICCT', 'ALBT', 'NVOS', 'CISO', 'PRZO', 'AGRI', 'SILO', 'WATT', 'CERO', 'QNTM', 'BCAN', 'NMHI', 'GDHG', 'TTNP', 'VCIG', 'RDZNW', 'CEAD', 'IMCC', 'VSEE', 'DRUG', 'JNVR', 'YGMZ', 'ATHE', 'IINNW', 'MSGM', 'VIRI', 'INBS', 'BNOX', 'SVREW', 'AEMD', 'BCDA', 'VVPR', 'LFLY', 'CTHR', 'SGD', 'OCG', 'BNZI', 'SNAX', 'CNSP', 'MAXN', 'ONFO', 'RNAZ', 'MIND', 'NTBL', 'SNPX', 'SONN', 'FAASW', 'ENVB', 'BFI', 'BOXL', 'CELZ', 'LIXT', 'KTTA', 'GTBP', 'MOB', 'OST', 'RSLS', 'DGLY', 'VINO', 'PALI', 'CMND', 'PITAW', 'BCTXW', 'AIMD', 'NUKK', 'HEPA', 'CPOP', 'PCSA', 'CTOR', 'NTRP', 'PIK', 'KXIN', 'TIRX', 'SPGC', 'LIPO', 'SATLW', 'VRPX', 'NVFY', 'ATXI', 'FORD', 'EZGO', 'AREB', 'UPXI', 'HCTI', 'BZFDW', 'VERO', 'GOEVW', 'TCBP', 'TCRT', 'ARTL', 'TNFA', 'CXAIW', 'IDAI', 'RKDA', 'AQB', 'XPON', 'ONCO', 'ICON', 'CYTHW', 'VS', 'BTCT', 'PRSO', 'SHPH', 'VEEE', 'CNET', 'OLB', 'AGFY', 'SOBR', 'ANTE', 'NIOBW', 'SBFM', 'RELI', 'DATS', 'THAR', 'FRZA', 'GENE', 'TRVN', 'ATXG', 'PROCW', 'PTIX', 'SNOA', 'IFBD', 'ISPC', 'TCJH', 'OPTXW', 'BAOS', 'PTPI', 'NXU', 'VSME', 'LYT', 'XHG', 'ENSC', 'HOLOW', 'HSDT', 'PBM', 'DTSTW', 'TNXP', 'IVP', 'LUXH', 'JTAI', 'PRTG', 'APVO', 'MYPSW', 'LQR', 'NXGLW', 'QNRX', 'TC', 'JSPRW', 'XCUR', 'IMTE', 'INVO', 'DSYWW', 'LXEH', 'SPCB', 'EDBL', 'EVOK', 'ASTI', 'NVVE', 'GXAI', 'SOPA', 'NRSNW', 'BTMWW', 'STSSW', 'SISI', 'JWEL', 'XYLO', 'SVRE', 'ZCMD', 'CETX', 'EUDAW', 'CYTO', 'TVGNW', 'OCTO', 'MLGO', 'JTAIZ', 'HSCS', 'BPTH', 'EAST', 'DFLIW', 'XXII', 'DBGI', 'SXTP', 'DUO', 'FRGT', 'SBET', 'AVGR', 'WNW', 'AUUD', 'VSTEW', 'OBLG', 'PHIO', 'NKGNW', 'BON', 'INM', 'BKYI', 'SLRX', 'BBLG', 'MDAIW', 'AKAN', 'SINT', 'AENTW', 'CYCC', 'DRMA', 'GRDIW', 'BNRG', 'TIVC', 'SXTC', 'QH', 'TCBPW', 'BFRGW', 'PETWW', 'QLGN', 'BACK', 'BAERW', 'BSFC', 'ZVSA', 'ATNF', 'KDLYW', 'SGBX', 'BNAIW', 'ALZN', 'MYSZ', 'GFAIW', 'STAF', 'BDRX', 'SVMH', 'CCGWW', 'KAVL', 'RVSNW', 'ADTX', 'TRNR', 'SCNI', 'WINT', 'NAOV', 'GLMD', 'ACON', 'OCEAW', 'SNES', 'CURIW', 'KWE', 'GRI', 'NUWE', 'CTCXW', 'NCPL', 'REVB', 'VMAR', 'DHAIW', 'COCHW', 'WHLRP', 'SEEL', 'WORX', 'BRLSW', 'ABLVW', 'NITO', 'TAOP', 'SMX', 'FAMI', 'NXLIW', 'GNPX', 'TOIIW', 'CGBSW', 'MMVWW', 'ZCARW', 'MNYWW', 'TANH', 'NVNIW', 'ONMDW', 'GOVXW', 'JTAIW', 'NCNC', 'FGIWW', 'SYTA', 'LGMK', 'ENTO', 'CDTTW', 'BJDX', 'LGHL', 'CDIOW', 'BETRW', 'APLMW', 'CLEU', 'TGL', 'UK', 'ABVEW', 'SPRC', 'MTEKW', 'WENAW', 'IVDAW', 'FRES', 'XBPEW', 'GDEVW', 'WGSWW', 'HTOOW', 'CNEY', 'COEPW', 'PDYNW', 'LUCYW', 'LDTCW', 'WLDSW', 'HYMCL', 'ONFOW', 'SAITW', 'BCGWW', 'BTBDW', 'AAGRW', 'LIFWW', 'NMHIW', 'SURGW', 'SWAGW', 'SQFTW', 'HOVRW', 'DAVEW', 'PRFX', 'SLXNW', 'CELUW', 'COOTW', 'NDRA', 'PAVMZ', 'BFIIW', 'FFIEW', 'HUBCW', 'EJH', 'AMPGW', 'CLNNW', 'BSLKW', 'HYMCW', 'GRRRW', 'ACONW', 'NIVFW', 'NUKKW', 'MKDWW', 'JFBR', 'PBMWW', 'SABSW', 'BNZIW', 'XOSWW', 'ESGLW', 'KWESW', 'ICUCW', 'HUBCZ', 'TNONW', 'SONDW', 'BROGW', 'DATSW', 'CPTNW', 'SVMHW', 'MNTSW', 'AUUDW', 'AREBW', 'PRENW', 'LTRYW', 'VSSYW', 'SMFL', 'SBFMW', 'LIXTW', 'SWVLW', 'LIDRW', 'NVVEW', 'CREVW', 'KITTW', 'RELIW', 'HOFVW', 'BTCTW', 'EDBLW', 'CINGW', 'BENFW', 'PTIXW', 'LFLYW', 'SRZNW', 'JFBRW', 'SYTAW', 'HSCSW', 'ZAPPW', 'KPLTW', 'ADNWW', 'LGHLW', 'GSMGW', 'SNAXW', 'REVBW', 'KTTAW', 'UKOMW', 'NCPLW', 'SMXWW', 'ATNFW', 'ACAB', 'ACABW', 'ACAC', 'ACACW', 'AEAE', 'AFJK', 'AIMAU', 'AIMBU', 'AITR', 'AITRU', 'ALCY', 'ALCYU', 'ALF', 'ALFUU', 'ALFUW', 'ALSA', 'ALSAR', 'ALSAU', 'ANSC', 'ANSCW', 'AOGO', 'APXI', 'AQU', 'ASCB', 'ASCBU', 'ASCBW', 'ATMC', 'ATMCR', 'ATMCW', 'ATMV', 'ATMVR', 'BAYA', 'BAYAR', 'BAYAU', 'BCSA', 'BCSAU', 'BCSAW', 'BHAC', 'BHACU', 'BKHA', 'BKHAR', 'BLAC', 'BLACR', 'BLACU', 'BLEU', 'BNIX', 'BNIXR', 'BOCN', 'BOWN', 'BRAC', 'BRKH', 'BRKHU', 'BRKHW', 'BSIIU', 'BUJA', 'BUJAU', 'BUJAW', 'BYNO', 'CAPT', 'CAPTW', 'CBRG', 'CBRGU', 'CCD', 'CCIX', 'CCIXU', 'CCIXW', 'CCTS', 'CCTSW', 'CDAQ', 'CDAQU', 'CDAQW', 'CFFS', 'CFFSW', 'CGO', 'CGON', 'CHI', 'CHW', 'CHY', 'CITE', 'CITEW', 'CLRCR', 'CLRCW', 'CSLM', 'CSLMU', 'CUBA', 'CUBWU', 'CUBWW', 'DECA', 'DECAW', 'DIST', 'DISTR', 'DISTW', 'DPCS', 'DTSQU', 'DUET', 'DYCQ', 'EMCG', 'EMCGR', 'EMCGU', 'EMCGW', 'ESHA', 'EURKU', 'EVGR', 'EVGRU', 'EVGRW', 'FIAC', 'FIACW', 'FLD', 'FLDDU', 'FLDDW', 'FNVT', 'FNVTW', 'FORL', 'FORLW', 'FSHP', 'FSHPR', 'FTII', 'FTIIU', 'FTIIW', 'GATE', 'GBBK', 'GBBKR', 'GDST', 'GDSTR', 'GDSTW', 'GECCI', 'GECCM', 'GECCO', 'GECCZ', 'GHIXU', 'GHIXW', 'GLAC', 'GLLIR', 'GLLIW', 'GLST', 'GLSTU', 'GODN', 'GODNR', 'GPAT', 'GPATU', 'GPATW', 'GTAC', 'GTACW', 'GUTS', 'HAIA', 'HAIAW', 'HCVI', 'HCVIW', 'HHGC', 'HHGCR', 'HHGCW', 'HLXB', 'HONDU', 'HSPO', 'IBAC', 'IBACR', 'IGTA', 'IGTAR', 'IGTAW', 'INAQW', 'INTE', 'IPXX', 'IPXXW', 'IROH', 'IROHR', 'IROHU', 'ISPOW', 'ISRL', 'ISRLU', 'ISRLW', 'IVCA', 'IVCAU', 'IVCB', 'IVCPW', 'IXAQ', 'JVSA', 'JVSAR', 'JVSAU', 'KACL', 'KVAC', 'KVACU', 'KVACW', 'LCW', 'LOT', 'LPAA', 'LPAAU', 'LPAAW', 'MACI', 'MACIW', 'MARX', 'MARXR', 'MARXU', 'MBAVU', 'MCAG', 'MCAGU', 'MITA', 'MITAU', 'MLEC', 'MSSA', 'MSSAR', 'MSSAU', 'MSSAW', 'NBST', 'NBSTU', 'NBSTW', 'NETD', 'NETDU', 'NETDW', 'NNAG', 'NNAGR', 'NNAGU', 'NNAGW', 'NOVV', 'NOVVR', 'NOVVW', 'NPAB', 'NPABU', 'NPABW', 'NVAC', 'NVAWW', 'OAKU', 'OAKUR', 'OAKUW', 'ONYX', 'OXLCI', 'OXSQZ', 'PCSC', 'PFTA', 'PFTAU', 'PLAO', 'PLAOU', 'PLAOW', 'PLMI', 'PLMIU', 'PLMIW', 'PLMJ', 'POLEU', 'PPYA', 'PPYAU', 'PPYAW', 'PRLH', 'PRLHU', 'PTHL', 'PTWO', 'PTWOU', 'PTWOW', 'PWUP', 'PWUPU', 'PWUPW', 'QETA', 'QETAR', 'QETAU', 'QOMO', 'QOMOU', 'QQQX', 'RENE', 'RENEW', 'RFAC', 'RFACW', 'RFAI', 'RFAIR', 'RFAIU', 'ROCL', 'ROCLW', 'RR', 'SDSTW', 'SIMA', 'SIMAU', 'SIMAW', 'SKGR', 'SKGRU', 'SKGRW', 'SPKL', 'SPKLU', 'SVII', 'SVIIW', 'TBMC', 'TBMCR', 'TETE', 'THCPW', 'TLGY', 'TMTC', 'VACHU', 'VCICU', 'VLYPN', 'VMCA', 'VSAC', 'WINV', 'WINVR', 'WINVU', 'WTMA', 'WTMAR', 'XFIN', 'XFINW', 'YOTA', 'YOTAW', 'ZOOZ', 'ZPTA', 'ZPTAW']\n"
     ]
    }
   ],
   "source": [
    "allStockAddr=\"https://api.nasdaq.com/api/screener/stocks?tableonly=true&limit=1600&exchange=NASDAQ&marketcap=nano\"\n",
    "\n",
    "allStockData=requests.get(allStockAddr,headers=header,timeout=10).text\n",
    "\n",
    "#print(allStockData)\n",
    "\n",
    "allStockJson=json.loads(allStockData)\n",
    "#print(allStockJson)\n",
    "allStockJson=allStockJson[\"data\"][\"table\"][\"rows\"]\n",
    "stockCodes=[]\n",
    "for firm in allStockJson:\n",
    "    stockCodes.append(firm[\"symbol\"])\n",
    "print(stockCodes)\n"
   ]
  },
  {
   "cell_type": "code",
   "execution_count": 3,
   "metadata": {},
   "outputs": [],
   "source": [
    "yahoofinanceAPIBaseLink=\"https://query2.finance.yahoo.com/v8/finance/chart/\"\n",
    "stock=\"\"\n",
    "start_time=\"\"\n",
    "end_time=\"\"\n",
    "interval=\"1m\"\n",
    "\n",
    "yahoofinanceAPIUrl=yahoofinanceAPIBaseLink+stock+\"?\"+\"period1=\"+start_time+\"&period2=\"+end_time+\"&interval=\"+interval+\"&includePrePost=true&lang=en-US&region=US\"\n",
    "stockData=requests.get(yahoofinanceAPIUrl,headers=header)\n",
    "print(stockData)"
   ]
  }
 ],
 "metadata": {
  "kernelspec": {
   "display_name": "Python 3",
   "language": "python",
   "name": "python3"
  },
  "language_info": {
   "codemirror_mode": {
    "name": "ipython",
    "version": 3
   },
   "file_extension": ".py",
   "mimetype": "text/x-python",
   "name": "python",
   "nbconvert_exporter": "python",
   "pygments_lexer": "ipython3",
   "version": "3.11.4"
  }
 },
 "nbformat": 4,
 "nbformat_minor": 2
}
